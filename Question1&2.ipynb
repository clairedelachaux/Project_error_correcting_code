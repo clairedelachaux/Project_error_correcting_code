{
 "cells": [
  {
   "cell_type": "code",
   "execution_count": 30,
   "id": "ecb8d65d",
   "metadata": {},
   "outputs": [
    {
     "name": "stdout",
     "output_type": "stream",
     "text": [
      "Largest k for a decoding failure of 0.020 is 246\n",
      "Largest k for a decoding failure of 0.001 is 240\n",
      "Largest k for a decoding failure of 1/10000000000 is 224\n"
     ]
    }
   ],
   "source": [
    "def p_error(p, k):\n",
    "    \"\"\"\n",
    "    Calculates the probability that a string of k bits contains an error\n",
    "    after sending over a channel\n",
    "    \n",
    "    Parameters:\n",
    "        p (int): bit error.\n",
    "        k (int): Number of bits.\n",
    "\n",
    "    Returns:\n",
    "        float: Byte error probability of a channel\n",
    "    \"\"\"\n",
    "    # First we compute the probability that none of the bits change going through the channel\n",
    "    p_k = (1 - p) ** k\n",
    "    \n",
    "    return 1 - p_k\n",
    "\n",
    "\n",
    "def P_fail(n,t,p):\n",
    "    \"\"\"\n",
    "    Calculate the probability of a decoding failure in a communication\n",
    "    system using Reed-Solomon (RS) codes with code length n and symbol error\n",
    "    probability p.\n",
    "\n",
    "    Parameters:\n",
    "        n (int): Code length (number of symbols).\n",
    "        t (int): Number of errors.\n",
    "        p (float): Probability of a single symbol error (byte probability).\n",
    "\n",
    "    Returns:\n",
    "        float: Probability of a decoding error.\n",
    "    \"\"\"\n",
    "    \n",
    "    P = sum(binomial(n, j) * p^j * (1-p)^(n-j) for j in range(t + 1))\n",
    "    return 1 - P\n",
    "\n",
    "\n",
    "# -- -- -- -- -- -- -- -- Questions -- -- -- -- -- -- -- -- #\n",
    "\n",
    "# Set precision for floating-point arithmetic\n",
    "precision = 1000\n",
    "RR = RealField(precision)\n",
    "\n",
    "\n",
    "## Question 1: Calculte the byte error probability \n",
    "# Set the bit error as 0.001\n",
    "p_bit_error = RR(0.001)\n",
    "\n",
    "# Calculate the byte error probability\n",
    "p = p_error(p_bit_error,8)\n",
    "\n",
    "\n",
    "## Question 2: Find the largest k for for different values of a decoding failure\n",
    "# Set the known parameters\n",
    "P = [0.02,0.001, 10**(-10)]\n",
    "n = 256\n",
    "\n",
    "k_max = []\n",
    "\n",
    "for P_F in P:\n",
    "    # Initialize (note that p was calculated in question 1)\n",
    "    k = 0\n",
    "    P_f = P_fail(n,(n - k)//2,p)\n",
    "    # Find the maximum k by incrementing\n",
    "    while P_f <= P_F:\n",
    "        k += 1\n",
    "        P_f = P_fail(n,(n - k)//2,p)\n",
    "    k_max.append(k-1)\n",
    "   \n",
    "# print(\"1 - Probability of at most {} errors occurring: {:.2f}\".format(t, 1-P))\n",
    "\n",
    "print('Largest k for a decoding failure of {:.3f} is {}'.format(P[0],k_max[0]))\n",
    "print('Largest k for a decoding failure of {:.3f} is {}'.format(P[1],k_max[1]))\n",
    "print('Largest k for a decoding failure of {} is {}'.format(P[2],k_max[2]))\n",
    "\n"
   ]
  }
 ],
 "metadata": {
  "kernelspec": {
   "display_name": "SageMath 10.2",
   "language": "sage",
   "name": "sagemath"
  },
  "language_info": {
   "codemirror_mode": {
    "name": "ipython",
    "version": 3
   },
   "file_extension": ".py",
   "mimetype": "text/x-python",
   "name": "python",
   "nbconvert_exporter": "python",
   "pygments_lexer": "ipython3",
   "version": "3.11.1"
  }
 },
 "nbformat": 4,
 "nbformat_minor": 5
}
